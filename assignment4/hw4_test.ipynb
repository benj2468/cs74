{
 "cells": [
  {
   "cell_type": "markdown",
   "metadata": {},
   "source": [
    "1) (5 points) Divide the data set into test/train sets (20/80)"
   ]
  },
  {
   "cell_type": "code",
   "execution_count": 1,
   "metadata": {},
   "outputs": [],
   "source": [
    "import autograd.numpy as np\n",
    "from autograd import grad \n",
    "import matplotlib.pyplot as plt"
   ]
  },
  {
   "cell_type": "code",
   "execution_count": 24,
   "metadata": {},
   "outputs": [],
   "source": [
    "# load in dataset\n",
    "import csv\n",
    "fname = \"hw4_test.csv\"\n",
    "with open(fname) as f:\n",
    "    reader = csv.reader(f, delimiter=\",\")\n",
    "\n",
    "    data = []\n",
    "    for row in reader:\n",
    "        data.append(row)\n",
    "\n",
    "header = data[0]\n",
    "data = data[1:]"
   ]
  },
  {
   "cell_type": "code",
   "execution_count": 25,
   "metadata": {},
   "outputs": [],
   "source": [
    "xs = [list(map(float, x[0:9])) for x in data]\n",
    "ys = [int(x[9]) for x in data]"
   ]
  },
  {
   "cell_type": "code",
   "execution_count": 21,
   "metadata": {},
   "outputs": [],
   "source": [
    "from sklearn.model_selection import train_test_split \n",
    "x_train, x_test, y_train, y_test = train_test_split(xs, ys, train_size=.8, test_size=.2)"
   ]
  },
  {
   "cell_type": "markdown",
   "metadata": {},
   "source": [
    "2. Implement a multinomial naive bayes classifier **from scratch** with smoothing. (set default smoothing value to 1)"
   ]
  },
  {
   "cell_type": "code",
   "execution_count": 5,
   "metadata": {},
   "outputs": [],
   "source": [
    "from copy import deepcopy\n",
    "\n",
    "class MultinomialNaiveBayes():\n",
    "    def __init__(self, xs, ys, classes, smoothing = 1):\n",
    "        self.xs = xs\n",
    "        self.ys = ys\n",
    "        self.classes = classes\n",
    "        self.class_counts = [0] * len(self.classes)\n",
    "        self.smoothing = smoothing\n",
    "        for y in ys:\n",
    "            self.class_counts[self.classes.index(y)] += 1\n",
    "    \n",
    "\n",
    "    def predict(self, x):\n",
    "        counts = [deepcopy([self.smoothing] * len(x)) for i in range(0, len(self.classes))]\n",
    "        \n",
    "        for x_vals, y in zip(self.xs, self.ys):\n",
    "            i = self.classes.index(y)\n",
    "            for j, x_v in enumerate(x_vals):\n",
    "                if x_v == x[j]:\n",
    "                    counts[i][j] += 1.0        \n",
    "        joint = []\n",
    "\n",
    "        for c in range(0, len(counts)):\n",
    "            tot = 1\n",
    "            for i in range(0, len(counts[c])):\n",
    "                counts[c][i] /= (self.class_counts[c] + len(self.classes))\n",
    "                tot *= counts[c][i]\n",
    "            joint.append(tot)\n",
    "\n",
    "        return self.classes[np.argmax(joint)]"
   ]
  },
  {
   "cell_type": "markdown",
   "metadata": {},
   "source": [
    "3. Implement a Gaussian naive bayes classifier **from scratch** no smoothing."
   ]
  },
  {
   "cell_type": "code",
   "execution_count": 32,
   "metadata": {},
   "outputs": [],
   "source": [
    "from copy import deepcopy\n",
    "from scipy.stats import norm\n",
    "\n",
    "class GaussianNaiveBayes():\n",
    "    def __init__(self, xs, ys, classes):\n",
    "        self.sds = []\n",
    "        self.means = []\n",
    "        self.classes = classes\n",
    "        filtered = [deepcopy([]) for i in range(0, len(classes))]\n",
    "        for x, y in zip(xs, ys):\n",
    "            i = self.classes.index(y)\n",
    "            filtered[i].append(x)\n",
    "\n",
    "        \n",
    "\n",
    "        for i in range(0, len(classes)):\n",
    "            sds = np.std(filtered[i], axis=0)\n",
    "            means = np.mean(filtered[i], axis=0)\n",
    "            \n",
    "            self.sds.append(sds ** 2)\n",
    "            self.means.append(means)\n",
    "\n",
    "\n",
    "    def predict(self, x):\n",
    "        joint = [1] * len(self.classes)\n",
    "\n",
    "        for c in range(0, len(self.classes)):\n",
    "            for i in range(0, len(x)):\n",
    "                sd = self.sds[c][i]\n",
    "                mean = self.means[c][i]\n",
    "                joint[c] *= norm.pdf(x[i], loc=mean, scale=sd)\n",
    "\n",
    "        print(joint)\n",
    "\n",
    "        return self.classes[np.argmax(joint)]\n",
    "\n"
   ]
  },
  {
   "cell_type": "markdown",
   "metadata": {},
   "source": [
    "4. Calculate the accuracy and the f1 score of test data using both of your models implemented above."
   ]
  },
  {
   "cell_type": "code",
   "execution_count": 7,
   "metadata": {},
   "outputs": [],
   "source": [
    "def evaluate(y_actual,y_pred):\n",
    "    false_positive, false_negative, true_positive, true_negative = 0,0,0,0\n",
    "\n",
    "    for y_a, y_p in zip(y_actual, y_pred):\n",
    "        if y_a == y_p:\n",
    "            if y_a == 1:\n",
    "                true_positive+=1\n",
    "            else:\n",
    "                true_negative+=1\n",
    "        else:\n",
    "            if y_a == 1:\n",
    "                false_negative+=1\n",
    "            else:\n",
    "                false_positive+=1\n",
    "\n",
    "    return [false_positive, false_negative, true_positive, true_negative]\n",
    "\n",
    "def acc(matrix):\n",
    "    [_, _, tp, tn] = matrix\n",
    "    return (tp + tn) / sum(matrix)\n",
    "\n",
    "def f1(matrix):\n",
    "    [fp, fn, tp, tn] = matrix\n",
    "    prec = tp / (tp + fp)\n",
    "    rec = tp / (tp + fn)\n",
    "\n",
    "    return 2 * (prec * rec) / (prec + rec)\n"
   ]
  },
  {
   "cell_type": "code",
   "execution_count": 33,
   "metadata": {},
   "outputs": [
    {
     "name": "stdout",
     "output_type": "stream",
     "text": [
      "Accuracy under NaiveBayes: 0.6666666666666666\n"
     ]
    },
    {
     "ename": "ZeroDivisionError",
     "evalue": "division by zero",
     "output_type": "error",
     "traceback": [
      "\u001b[0;31m---------------------------------------------------------------------------\u001b[0m",
      "\u001b[0;31mZeroDivisionError\u001b[0m                         Traceback (most recent call last)",
      "\u001b[0;32m/var/folders/97/nnzbvk3n02sftgtc10gbrbnm0000gn/T/ipykernel_52021/2970572262.py\u001b[0m in \u001b[0;36m<module>\u001b[0;34m\u001b[0m\n\u001b[1;32m      4\u001b[0m \u001b[0mmatrix\u001b[0m \u001b[0;34m=\u001b[0m \u001b[0mevaluate\u001b[0m\u001b[0;34m(\u001b[0m\u001b[0my_test\u001b[0m\u001b[0;34m,\u001b[0m \u001b[0my_pred\u001b[0m\u001b[0;34m)\u001b[0m\u001b[0;34m\u001b[0m\u001b[0;34m\u001b[0m\u001b[0m\n\u001b[1;32m      5\u001b[0m \u001b[0mprint\u001b[0m\u001b[0;34m(\u001b[0m\u001b[0;34mf'Accuracy under NaiveBayes: {acc(matrix)}'\u001b[0m\u001b[0;34m)\u001b[0m\u001b[0;34m\u001b[0m\u001b[0;34m\u001b[0m\u001b[0m\n\u001b[0;32m----> 6\u001b[0;31m \u001b[0mprint\u001b[0m\u001b[0;34m(\u001b[0m\u001b[0;34mf'F1 Score under NaiveBayes: {f1(matrix)}'\u001b[0m\u001b[0;34m)\u001b[0m\u001b[0;34m\u001b[0m\u001b[0;34m\u001b[0m\u001b[0m\n\u001b[0m",
      "\u001b[0;32m/var/folders/97/nnzbvk3n02sftgtc10gbrbnm0000gn/T/ipykernel_52021/95837783.py\u001b[0m in \u001b[0;36mf1\u001b[0;34m(matrix)\u001b[0m\n\u001b[1;32m     23\u001b[0m     \u001b[0;34m[\u001b[0m\u001b[0mfp\u001b[0m\u001b[0;34m,\u001b[0m \u001b[0mfn\u001b[0m\u001b[0;34m,\u001b[0m \u001b[0mtp\u001b[0m\u001b[0;34m,\u001b[0m \u001b[0mtn\u001b[0m\u001b[0;34m]\u001b[0m \u001b[0;34m=\u001b[0m \u001b[0mmatrix\u001b[0m\u001b[0;34m\u001b[0m\u001b[0;34m\u001b[0m\u001b[0m\n\u001b[1;32m     24\u001b[0m     \u001b[0mprec\u001b[0m \u001b[0;34m=\u001b[0m \u001b[0mtp\u001b[0m \u001b[0;34m/\u001b[0m \u001b[0;34m(\u001b[0m\u001b[0mtp\u001b[0m \u001b[0;34m+\u001b[0m \u001b[0mfp\u001b[0m\u001b[0;34m)\u001b[0m\u001b[0;34m\u001b[0m\u001b[0;34m\u001b[0m\u001b[0m\n\u001b[0;32m---> 25\u001b[0;31m     \u001b[0mrec\u001b[0m \u001b[0;34m=\u001b[0m \u001b[0mtp\u001b[0m \u001b[0;34m/\u001b[0m \u001b[0;34m(\u001b[0m\u001b[0mtp\u001b[0m \u001b[0;34m+\u001b[0m \u001b[0mfn\u001b[0m\u001b[0;34m)\u001b[0m\u001b[0;34m\u001b[0m\u001b[0;34m\u001b[0m\u001b[0m\n\u001b[0m\u001b[1;32m     26\u001b[0m \u001b[0;34m\u001b[0m\u001b[0m\n\u001b[1;32m     27\u001b[0m     \u001b[0;32mreturn\u001b[0m \u001b[0;36m2\u001b[0m \u001b[0;34m*\u001b[0m \u001b[0;34m(\u001b[0m\u001b[0mprec\u001b[0m \u001b[0;34m*\u001b[0m \u001b[0mrec\u001b[0m\u001b[0;34m)\u001b[0m \u001b[0;34m/\u001b[0m \u001b[0;34m(\u001b[0m\u001b[0mprec\u001b[0m \u001b[0;34m+\u001b[0m \u001b[0mrec\u001b[0m\u001b[0;34m)\u001b[0m\u001b[0;34m\u001b[0m\u001b[0;34m\u001b[0m\u001b[0m\n",
      "\u001b[0;31mZeroDivisionError\u001b[0m: division by zero"
     ]
    }
   ],
   "source": [
    "multi = MultinomialNaiveBayes(x_train, y_train, classes=[2,4])\n",
    "y_pred = [multi.predict(x) for x in x_test]\n",
    "\n",
    "matrix = evaluate(y_test, y_pred)\n",
    "print(f'Accuracy under NaiveBayes: {acc(matrix)}')\n",
    "print(f'F1 Score under NaiveBayes: {f1(matrix)}')"
   ]
  },
  {
   "cell_type": "code",
   "execution_count": 34,
   "metadata": {},
   "outputs": [
    {
     "name": "stdout",
     "output_type": "stream",
     "text": [
      "[6.898370805258773e-17, 7.255735386213203e-11]\n",
      "[2.1301577364513676e-10, 6.250181424205673e-11]\n",
      "[2.618574747779024e-09, 1.3775489279542392e-14]\n",
      "Accuracy under GaussBayes: 1.0\n"
     ]
    },
    {
     "ename": "ZeroDivisionError",
     "evalue": "division by zero",
     "output_type": "error",
     "traceback": [
      "\u001b[0;31m---------------------------------------------------------------------------\u001b[0m",
      "\u001b[0;31mZeroDivisionError\u001b[0m                         Traceback (most recent call last)",
      "\u001b[0;32m/var/folders/97/nnzbvk3n02sftgtc10gbrbnm0000gn/T/ipykernel_52021/1903229877.py\u001b[0m in \u001b[0;36m<module>\u001b[0;34m\u001b[0m\n\u001b[1;32m      4\u001b[0m \u001b[0mmatrix\u001b[0m \u001b[0;34m=\u001b[0m \u001b[0mevaluate\u001b[0m\u001b[0;34m(\u001b[0m\u001b[0my_test\u001b[0m\u001b[0;34m,\u001b[0m \u001b[0my_pred\u001b[0m\u001b[0;34m)\u001b[0m\u001b[0;34m\u001b[0m\u001b[0;34m\u001b[0m\u001b[0m\n\u001b[1;32m      5\u001b[0m \u001b[0mprint\u001b[0m\u001b[0;34m(\u001b[0m\u001b[0;34mf'Accuracy under GaussBayes: {acc(matrix)}'\u001b[0m\u001b[0;34m)\u001b[0m\u001b[0;34m\u001b[0m\u001b[0;34m\u001b[0m\u001b[0m\n\u001b[0;32m----> 6\u001b[0;31m \u001b[0mprint\u001b[0m\u001b[0;34m(\u001b[0m\u001b[0;34mf'F1 Score under GaussBayes: {f1(matrix)}'\u001b[0m\u001b[0;34m)\u001b[0m\u001b[0;34m\u001b[0m\u001b[0;34m\u001b[0m\u001b[0m\n\u001b[0m",
      "\u001b[0;32m/var/folders/97/nnzbvk3n02sftgtc10gbrbnm0000gn/T/ipykernel_52021/95837783.py\u001b[0m in \u001b[0;36mf1\u001b[0;34m(matrix)\u001b[0m\n\u001b[1;32m     22\u001b[0m \u001b[0;32mdef\u001b[0m \u001b[0mf1\u001b[0m\u001b[0;34m(\u001b[0m\u001b[0mmatrix\u001b[0m\u001b[0;34m)\u001b[0m\u001b[0;34m:\u001b[0m\u001b[0;34m\u001b[0m\u001b[0;34m\u001b[0m\u001b[0m\n\u001b[1;32m     23\u001b[0m     \u001b[0;34m[\u001b[0m\u001b[0mfp\u001b[0m\u001b[0;34m,\u001b[0m \u001b[0mfn\u001b[0m\u001b[0;34m,\u001b[0m \u001b[0mtp\u001b[0m\u001b[0;34m,\u001b[0m \u001b[0mtn\u001b[0m\u001b[0;34m]\u001b[0m \u001b[0;34m=\u001b[0m \u001b[0mmatrix\u001b[0m\u001b[0;34m\u001b[0m\u001b[0;34m\u001b[0m\u001b[0m\n\u001b[0;32m---> 24\u001b[0;31m     \u001b[0mprec\u001b[0m \u001b[0;34m=\u001b[0m \u001b[0mtp\u001b[0m \u001b[0;34m/\u001b[0m \u001b[0;34m(\u001b[0m\u001b[0mtp\u001b[0m \u001b[0;34m+\u001b[0m \u001b[0mfp\u001b[0m\u001b[0;34m)\u001b[0m\u001b[0;34m\u001b[0m\u001b[0;34m\u001b[0m\u001b[0m\n\u001b[0m\u001b[1;32m     25\u001b[0m     \u001b[0mrec\u001b[0m \u001b[0;34m=\u001b[0m \u001b[0mtp\u001b[0m \u001b[0;34m/\u001b[0m \u001b[0;34m(\u001b[0m\u001b[0mtp\u001b[0m \u001b[0;34m+\u001b[0m \u001b[0mfn\u001b[0m\u001b[0;34m)\u001b[0m\u001b[0;34m\u001b[0m\u001b[0;34m\u001b[0m\u001b[0m\n\u001b[1;32m     26\u001b[0m \u001b[0;34m\u001b[0m\u001b[0m\n",
      "\u001b[0;31mZeroDivisionError\u001b[0m: division by zero"
     ]
    }
   ],
   "source": [
    "\n",
    "gauss = GaussianNaiveBayes(xs, ys, classes=[2,4])\n",
    "y_pred = [gauss.predict(x) for x in x_test]\n",
    "\n",
    "matrix = evaluate(y_test, y_pred)\n",
    "print(f'Accuracy under GaussBayes: {acc(matrix)}')\n",
    "print(f'F1 Score under GaussBayes: {f1(matrix)}')"
   ]
  }
 ],
 "metadata": {
  "interpreter": {
   "hash": "b0fa6594d8f4cbf19f97940f81e996739fb7646882a419484c72d19e05852a7e"
  },
  "kernelspec": {
   "display_name": "Python 3.9.9 64-bit",
   "language": "python",
   "name": "python3"
  },
  "language_info": {
   "codemirror_mode": {
    "name": "ipython",
    "version": 3
   },
   "file_extension": ".py",
   "mimetype": "text/x-python",
   "name": "python",
   "nbconvert_exporter": "python",
   "pygments_lexer": "ipython3",
   "version": "3.9.9"
  },
  "orig_nbformat": 4
 },
 "nbformat": 4,
 "nbformat_minor": 2
}
