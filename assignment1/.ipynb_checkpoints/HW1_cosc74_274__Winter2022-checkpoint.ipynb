{
 "cells": [
  {
   "cell_type": "markdown",
   "metadata": {},
   "source": [
    "# HW1  Try out gradient descent"
   ]
  },
  {
   "cell_type": "markdown",
   "metadata": {},
   "source": [
    "## Due Thursday Feb 3rd, 2022 at 11:59PM"
   ]
  },
  {
   "cell_type": "markdown",
   "metadata": {},
   "source": [
    "You should submit this jupyter notebook with your solutions. The solutions should include the code and also the output of all the cells.\n",
    "\n",
    "Note that for the problmes that require a cost function as input you should always use the most recent cost function that you have implemented (unless specified otherwise)."
   ]
  },
  {
   "cell_type": "markdown",
   "metadata": {},
   "source": [
    "1) [5 points] Calculate the derivative of following cost function and write it down:\n",
    "\n",
    "$g(w) = \\frac{1}{50}\\left(w^4 + w^2 + 10w - 50 \\right)$"
   ]
  },
  {
   "cell_type": "markdown",
   "metadata": {},
   "source": [
    "Answer: $\\frac{\\partial}{\\partial w}g(w) = \\frac{1}{50}(4w^3 + 2w + 10)$"
   ]
  },
  {
   "cell_type": "markdown",
   "metadata": {},
   "source": [
    "2) [25 points] Implement the gradient descent function as discussed in class using the gradient derived in the last problem. The function should return the cost history for each step. Use the code template below:\n"
   ]
  },
  {
   "cell_type": "code",
   "execution_count": 3,
   "metadata": {},
   "outputs": [],
   "source": [
    "def cost_function(w: int):\n",
    "    return (1 / 50) * ((w**4) + (w**2) + (10 * w) - 50)\n",
    "def cost_function_grad(w: int):\n",
    "    return (1 / 50) * ((4 * (w**3)) + (2 * w) + 10)\n",
    "\n",
    "\n",
    "def gradient_descent_a(alpha: int, max_its: int, w0):\n",
    "    '''\n",
    "    The Gradient descent function: w^k = w^{k-1} - alpha * grad\n",
    "    \n",
    "    alpha: float - learning rate\n",
    "    max_its: int - maximum number of iterations\n",
    "    w0 - a vector that is the initialization for the weights\n",
    "    '''\n",
    "\n",
    "    w = w0\n",
    "    \n",
    "    # Return array\n",
    "    yield w\n",
    "\n",
    "    i = 0\n",
    "    while i < max_its:\n",
    "\n",
    "        w = w - (alpha * cost_function_grad(w))\n",
    "\n",
    "        yield cost_function(w)\n",
    "\n",
    "        i += 1"
   ]
  },
  {
   "cell_type": "markdown",
   "metadata": {},
   "source": [
    "3) [10 points] Run the gradient_descent function you implemented three times, with the following parameters. Generate a single plot showing the cost as a function of step number for all three runs (combine all three runs into a single plot). If you are not familiar with plotting in python, here is the docs for matplotlib:(https://matplotlib.org/3.2.1/api/_as_gen/matplotlib.pyplot.plot.html#matplotlib.pyplot.plot). \n",
    "\n",
    "\n",
    "$w^0$ = 2.0\n",
    "max_its = 1000\n",
    "\n",
    "# first run\n",
    "alpha = 1\n",
    "# second run\n",
    "alpha = 0.1\n",
    "# third run\n",
    "alpha = 0.01\n"
   ]
  },
  {
   "cell_type": "code",
   "execution_count": 5,
   "metadata": {},
   "outputs": [
    {
     "ename": "TypeError",
     "evalue": "fromiter() missing required argument 'dtype' (pos 2)",
     "output_type": "error",
     "traceback": [
      "\u001b[0;31m---------------------------------------------------------------------------\u001b[0m",
      "\u001b[0;31mTypeError\u001b[0m                                 Traceback (most recent call last)",
      "\u001b[0;32m/var/folders/97/nnzbvk3n02sftgtc10gbrbnm0000gn/T/ipykernel_12465/3021145493.py\u001b[0m in \u001b[0;36m<module>\u001b[0;34m\u001b[0m\n\u001b[1;32m     13\u001b[0m \u001b[0;34m\u001b[0m\u001b[0m\n\u001b[1;32m     14\u001b[0m \u001b[0;34m\u001b[0m\u001b[0m\n\u001b[0;32m---> 15\u001b[0;31m \u001b[0mtest\u001b[0m\u001b[0;34m(\u001b[0m\u001b[0;36m1\u001b[0m\u001b[0;34m,\u001b[0m \u001b[0;36m1000\u001b[0m\u001b[0;34m,\u001b[0m \u001b[0;36m2.0\u001b[0m\u001b[0;34m)\u001b[0m\u001b[0;34m\u001b[0m\u001b[0;34m\u001b[0m\u001b[0m\n\u001b[0m\u001b[1;32m     16\u001b[0m \u001b[0mtest\u001b[0m\u001b[0;34m(\u001b[0m\u001b[0;36m0.1\u001b[0m\u001b[0;34m,\u001b[0m \u001b[0;36m1000\u001b[0m\u001b[0;34m,\u001b[0m \u001b[0;36m2.0\u001b[0m\u001b[0;34m)\u001b[0m\u001b[0;34m\u001b[0m\u001b[0;34m\u001b[0m\u001b[0m\n\u001b[1;32m     17\u001b[0m \u001b[0mtest\u001b[0m\u001b[0;34m(\u001b[0m\u001b[0;36m0.01\u001b[0m\u001b[0;34m,\u001b[0m \u001b[0;36m1000\u001b[0m\u001b[0;34m,\u001b[0m \u001b[0;36m2.0\u001b[0m\u001b[0;34m)\u001b[0m\u001b[0;34m\u001b[0m\u001b[0;34m\u001b[0m\u001b[0m\n",
      "\u001b[0;32m/var/folders/97/nnzbvk3n02sftgtc10gbrbnm0000gn/T/ipykernel_12465/3021145493.py\u001b[0m in \u001b[0;36mtest\u001b[0;34m(*args)\u001b[0m\n\u001b[1;32m      9\u001b[0m \u001b[0;34m\u001b[0m\u001b[0m\n\u001b[1;32m     10\u001b[0m \u001b[0;32mdef\u001b[0m \u001b[0mtest\u001b[0m\u001b[0;34m(\u001b[0m\u001b[0;34m*\u001b[0m\u001b[0margs\u001b[0m\u001b[0;34m)\u001b[0m\u001b[0;34m:\u001b[0m\u001b[0;34m\u001b[0m\u001b[0;34m\u001b[0m\u001b[0m\n\u001b[0;32m---> 11\u001b[0;31m     \u001b[0mres\u001b[0m \u001b[0;34m=\u001b[0m \u001b[0mnp\u001b[0m\u001b[0;34m.\u001b[0m\u001b[0mfromiter\u001b[0m\u001b[0;34m(\u001b[0m\u001b[0mgradient_descent_a\u001b[0m\u001b[0;34m(\u001b[0m\u001b[0;34m*\u001b[0m\u001b[0margs\u001b[0m\u001b[0;34m)\u001b[0m\u001b[0;34m)\u001b[0m\u001b[0;34m\u001b[0m\u001b[0;34m\u001b[0m\u001b[0m\n\u001b[0m\u001b[1;32m     12\u001b[0m     \u001b[0max\u001b[0m\u001b[0;34m.\u001b[0m\u001b[0mscatter\u001b[0m\u001b[0;34m(\u001b[0m\u001b[0mnp\u001b[0m\u001b[0;34m.\u001b[0m\u001b[0marange\u001b[0m\u001b[0;34m(\u001b[0m\u001b[0;36m0\u001b[0m\u001b[0;34m,\u001b[0m \u001b[0mlen\u001b[0m\u001b[0;34m(\u001b[0m\u001b[0mres\u001b[0m\u001b[0;34m)\u001b[0m\u001b[0;34m)\u001b[0m\u001b[0;34m,\u001b[0m \u001b[0mres\u001b[0m\u001b[0;34m,\u001b[0m \u001b[0mlabel\u001b[0m\u001b[0;34m=\u001b[0m\u001b[0;34mf\"{args[0]}\"\u001b[0m\u001b[0;34m)\u001b[0m\u001b[0;34m\u001b[0m\u001b[0;34m\u001b[0m\u001b[0m\n\u001b[1;32m     13\u001b[0m \u001b[0;34m\u001b[0m\u001b[0m\n",
      "\u001b[0;31mTypeError\u001b[0m: fromiter() missing required argument 'dtype' (pos 2)"
     ]
    },
    {
     "data": {
      "image/png": "[encoded data removed]",
      "text/plain": [
       "<Figure size 432x288 with 1 Axes>"
      ]
     },
     "metadata": {
      "needs_background": "light"
     },
     "output_type": "display_data"
    }
   ],
   "source": [
    "import matplotlib.pyplot as plt\n",
    "import numpy as np\n",
    "# %matplotlib inline # To keep your plots embedded\n",
    "\n",
    "fig, ax = plt.subplots()\n",
    "\n",
    "ax.set_title(\"Gradient Descent\")\n",
    "\n",
    "\n",
    "def test(*args):\n",
    "    res = np.fromiter(gradient_descent_a(*args))\n",
    "    ax.scatter(np.arange(0, len(res)), res, label=f\"{args[0]}\")\n",
    "\n",
    "\n",
    "test(1, 1000, 2.0)\n",
    "test(0.1, 1000, 2.0)\n",
    "test(0.01, 1000, 2.0)\n",
    "\n",
    "ax.legend(title=\"Alpha\", loc=\"upper right\")\n",
    "\n",
    "plt.show()\n"
   ]
  },
  {
   "cell_type": "markdown",
   "metadata": {},
   "source": [
    "For the next few problems we will be comparing fixed and diminishing learning rates"
   ]
  },
  {
   "cell_type": "markdown",
   "metadata": {},
   "source": [
    "Take the following cost function:\n",
    "\\begin{equation}\n",
    "g(w) = \\left \\vert w \\right \\vert\n",
    "\\end{equation}"
   ]
  },
  {
   "cell_type": "markdown",
   "metadata": {},
   "source": [
    "4) [5 points] Is this function convex? If no, why not? If yes, where is its global minimum?"
   ]
  },
  {
   "cell_type": "markdown",
   "metadata": {},
   "source": [
    "Answer: Yes - this function is convex, because if we take any two points on $g$, if they are both on the left arm (i.e. $<0$) then the line between them lies on $g$, same for if they are both $>0$. If one is $<0$ and the other is $>0$ then the line is entirely above $g$, therefore the function is convex."
   ]
  },
  {
   "cell_type": "markdown",
   "metadata": {},
   "source": [
    "5) [5 points] What is the derivative of the cost function? "
   ]
  },
  {
   "cell_type": "markdown",
   "metadata": {},
   "source": [
    "This function is not differentiable. But if we were to derive it piece-wise, the derivative would be as follows:\n",
    "\n",
    "\n",
    "$\\frac{\\partial}{\\partial w}g(w) = \\begin{cases}\n",
    "    \\text{undefined} & w = 0 \\\\\n",
    "    -1 & w < 0 \\\\\n",
    "    1 & w > 0 \n",
    "\\end{cases}$\n"
   ]
  },
  {
   "cell_type": "markdown",
   "metadata": {},
   "source": [
    "6) [20 points] Rewrite the gradient descent function from question 2 such that it takes the cost funciton g as input and uses the autograd library to calculate the gradient. The function should return the weight and cost history for each step. Use the code template below.\n",
    "\n",
    "autograd is a python package for automatic calculation of the gradient. Here is a tutorial on it: (http://www.cs.toronto.edu/~rgrosse/courses/csc321_2017/tutorials/tut4.pdf\n",
    "\n",
    "Note that in Python you can pass functions around like any other variables. That is why you can pass the cost function g to the gradient_descent function. \n",
    "\n",
    "You should be able to install it by running \"pip install autograd\" in a cell in your Jupyter notebook."
   ]
  },
  {
   "cell_type": "code",
   "execution_count": 7,
   "metadata": {},
   "outputs": [],
   "source": [
    "from autograd import grad \n",
    "\n",
    "\n",
    "def gradient_descent_b(g, alpha, max_its, w0):\n",
    "    '''\n",
    "    The Gradient descent function w/ generic cost function: w^k = w^{k-1} - alpha * grad\n",
    "    \n",
    "    g: function(w0) -> int - cost function\n",
    "    alpha: float - learning rate\n",
    "    max_its: int - maximum number of iterations\n",
    "    w0 - a vector that is the initialization for the weights\n",
    "    '''\n",
    "\n",
    "    # Find the gradient of the function\n",
    "    gradient = grad(g)\n",
    "\n",
    "    w = w0\n",
    "\n",
    "    # Return arrays\n",
    "    cost_history = [g(w)]\n",
    "    weight_history = [w]\n",
    "\n",
    "    i = 0\n",
    "    while i < max_its:\n",
    "\n",
    "        w = w - (alpha * gradient(w))\n",
    "\n",
    "        cost_history.append(g(w))\n",
    "        weight_history.append(w)\n",
    "\n",
    "        i += 1\n",
    "\n",
    "    return weight_history, cost_history\n"
   ]
  },
  {
   "cell_type": "markdown",
   "metadata": {},
   "source": [
    "7) [10 points] Make a run of max_its=20 steps of gradient descent with initialization at the point $w^0 = 1.75$, and a fixed learning rate of $\\alpha = 0.5$. Using the cost and weight history, plot the cost as a function of the weight for each step (cost on y-axis, weight on x-axis). Recall that the terms weight and parameter used interchangeably and both refer to w."
   ]
  },
  {
   "cell_type": "code",
   "execution_count": 9,
   "metadata": {},
   "outputs": [
    {
     "data": {
      "image/png": "[encoded data removed]",
      "text/plain": [
       "<Figure size 432x288 with 1 Axes>"
      ]
     },
     "metadata": {
      "needs_background": "light"
     },
     "output_type": "display_data"
    }
   ],
   "source": [
    "fig, ax = plt.subplots()\n",
    "\n",
    "ax.set_title(\"Gradient Descent #7\")\n",
    "\n",
    "ax.set_ylabel('Weight')\n",
    "ax.set_xlabel('Cost')\n",
    "\n",
    "def plot(weight_history, cost_history):\n",
    "    ax.scatter(cost_history, weight_history)\n",
    "    \n",
    "plot(*gradient_descent_b(cost_function, 0.5, 20, 1.75))\n",
    "\n",
    "plt.show()"
   ]
  },
  {
   "cell_type": "markdown",
   "metadata": {},
   "source": [
    "8) [15 points] Make a run of max_its=20 steps of gradient descent with initialization at the point $w^0 = 1.75$, using the diminishing rule $\\alpha = \\frac{1}{k}$ (for this you have to modify the gradient_descent function slightly. Use the code template below. Using the cost and weight history, plot the cost as a function of the weight for each step (cost on y-axis, weight on x-axis)"
   ]
  },
  {
   "cell_type": "code",
   "execution_count": 11,
   "metadata": {},
   "outputs": [],
   "source": [
    "from autograd import grad \n",
    "\n",
    "DIMINISHING_ALPHA = \"diminishing\"\n",
    "\n",
    "def gradient_descent_c(g, alpha, max_its, w0):\n",
    "    '''\n",
    "    The Gradient descent function w/ generic cost function: w^k = w^{k-1} - alpha * grad\n",
    "    \n",
    "    g: function(w0) -> int - cost function\n",
    "    alpha: float - learning rate\n",
    "    max_its: int - maximum number of iterations\n",
    "    w0 - a vector that is the initialization for the weights\n",
    "    '''\n",
    "\n",
    "    # Find the gradient of the function\n",
    "    gradient = grad(g)\n",
    "\n",
    "    w = w0\n",
    "\n",
    "    # Return arrays\n",
    "    cost_history = [g(w)]\n",
    "    weight_history = [w]\n",
    "\n",
    "    i = 0\n",
    "    while i < max_its:\n",
    "\n",
    "        alpha = 1 / (i + 1) if alpha == DIMINISHING_ALPHA else alpha\n",
    "\n",
    "        w = w - (alpha * gradient(w))\n",
    "\n",
    "        cost_history.append(g(w))\n",
    "        weight_history.append(w)\n",
    "\n",
    "        i += 1\n",
    "\n",
    "    return weight_history, cost_history"
   ]
  },
  {
   "cell_type": "markdown",
   "metadata": {},
   "source": [
    "9) [10 points]  Generate a single plot showing the cost as a function of step number for both runs (combine all  runs into a single plot). Which approach works better? Why ?"
   ]
  },
  {
   "cell_type": "code",
   "execution_count": 17,
   "metadata": {},
   "outputs": [
    {
     "data": {
      "image/png": "[encoded data removed]",
      "text/plain": [
       "<Figure size 432x288 with 1 Axes>"
      ]
     },
     "metadata": {
      "needs_background": "light"
     },
     "output_type": "display_data"
    }
   ],
   "source": [
    "fig, ax = plt.subplots()\n",
    "\n",
    "ax.set_title(\"Gradient Descent Problem #9\")\n",
    "\n",
    "def plot(*args):\n",
    "    weights, costs = gradient_descent_c(*args)\n",
    "    ax.scatter(weights, costs, label=f'{args[1]}')\n",
    "\n",
    "ax.set_ylabel('Weight')\n",
    "ax.set_xlabel('Cost')\n",
    "\n",
    "plot(cost_function, 0.5, 20, 1.75)\n",
    "plot(cost_function, DIMINISHING_ALPHA, 20, 1.75)\n",
    "\n",
    "ax.legend('upper left')\n",
    "\n",
    "plt.show()"
   ]
  },
  {
   "cell_type": "markdown",
   "metadata": {},
   "source": [
    "Note: Orange = diminishing; Blue = Normal.\n",
    "\n",
    "Answer: It would appear that the diminishing alpha performs better, as it reaches a lower cost - performing a better minimizing job under the same number of steps."
   ]
  },
  {
   "cell_type": "markdown",
   "metadata": {},
   "source": [
    "We will now look at the oscilating behavior of gradient descent. \n",
    "\n",
    "Take the following cost function:\n",
    "$g(w) = w_0^2 + w_1^2 + 2\\sin(1.5 (w_0 + w_1)) +2$\n",
    "\n",
    "Note that this cost function has two parameters."
   ]
  },
  {
   "cell_type": "markdown",
   "metadata": {},
   "source": [
    "10) [5 points] Make sure your gradient descent function from problem 6 can handle cost functions with more than one parameter. You may need to rewrite it if you were not careful. Use the code template below (if your function from problem 6 is good, you can just copy and paste it here)"
   ]
  },
  {
   "cell_type": "code",
   "execution_count": 18,
   "metadata": {},
   "outputs": [],
   "source": [
    "DIMINISHING_ALPHA = \"diminishing\"\n",
    "\n",
    "def gradient_descent_d(g, alpha, max_its, w0):\n",
    "    '''\n",
    "    The Gradient descent function w/ generic cost function: w^k = w^{k-1} - alpha * grad\n",
    "    \n",
    "    g: function(w0) -> int - cost function\n",
    "    alpha: float - learning rate\n",
    "    max_its: int - maximum number of iterations\n",
    "    w0 - a vector that is the initialization for the weights\n",
    "    '''\n",
    "\n",
    "    gradient = []\n",
    "    for i in range(0, len(w0)):\n",
    "        gradient.append(grad(g, i))\n",
    "        \n",
    "    w = w0\n",
    "\n",
    "    # Return arrays\n",
    "    cost_history = [g(*w)]\n",
    "    weight_history = [w]\n",
    "\n",
    "    i = 0\n",
    "    while i < max_its:\n",
    "\n",
    "        alpha = 1 / (i + 1) if alpha == DIMINISHING_ALPHA else alpha\n",
    "\n",
    "        sub = np.array([(alpha * gradient[i](*w)) for i in range(len(w))])\n",
    "        \n",
    "        w = np.subtract(w, sub)\n",
    "\n",
    "        cost_history.append(g(*w))\n",
    "        weight_history.append(w)\n",
    "\n",
    "        i += 1\n",
    "\n",
    "    return weight_history, cost_history"
   ]
  },
  {
   "cell_type": "markdown",
   "metadata": {},
   "source": [
    "11) [10 points] Run the gradient_descent function with the cost function above three times with the following parameters. Generate a single plot showing the cost as a function of step number for all three runs (combine all three runs into a single plot). Use the code template below. Which alpha leads to an oscillating behavior?\n",
    "\n",
    "$w^0$ = [3.0,3.0]\n",
    "max_its = 10\n",
    "\n",
    "# first run\n",
    "alpha = 0.01\n",
    "# second run\n",
    "alpha = 0.1\n",
    "# third run\n",
    "alpha = 1\n",
    "\n"
   ]
  },
  {
   "cell_type": "code",
   "execution_count": 19,
   "metadata": {},
   "outputs": [
    {
     "data": {
      "image/png": "[encoded data removed]",
      "text/plain": [
       "<Figure size 432x288 with 1 Axes>"
      ]
     },
     "metadata": {
      "needs_background": "light"
     },
     "output_type": "display_data"
    }
   ],
   "source": [
    "import autograd.numpy as np\n",
    "\n",
    "fig, ax = plt.subplots()\n",
    "\n",
    "def plot_2(*args):\n",
    "    alpha = args[1]\n",
    "    costs = gradient_descent_d(*args)[1]\n",
    "    ax.scatter(np.arange(0, len(costs)), costs, label=f'{alpha}')\n",
    "\n",
    "def cost_function_10(w0, w1):\n",
    "    return (w0**2) + (w1**2) + (2 * np.sin(1.5 * (w0 + w1)) + 2)\n",
    "\n",
    "w = np.array([3.0,3.0])\n",
    "plot_2(cost_function_10, 0.01, 10, w)\n",
    "plot_2(cost_function_10, 0.1, 10, w)\n",
    "plot_2(cost_function_10, 1, 10, w)\n",
    "\n",
    "ax.legend(loc=\"upper right\")\n",
    "\n",
    "plt.show()"
   ]
  },
  {
   "cell_type": "markdown",
   "metadata": {},
   "source": [
    "Answer: Clearly the alpha=1 leads to the oscillating behavior."
   ]
  },
  {
   "cell_type": "markdown",
   "metadata": {},
   "source": [
    "12) [15 points] This problem is about learning to tune fixed step length for gradient descent. Here, you are given a cost function:\n",
    "$g(w) = 2w_0^2 + w_1^2 +4w_2^2$ \n",
    "\n",
    "Assume your $w^0$= [5,5,5] and your max_iter = 100\n",
    "\n",
    "Use your latest gradient descent function with a fixed learning rate. Play around with at least 5 different values of alpha (using your intuition). Generate a single plot of the cost as a function of the number of iterations. Which value of alpha seems to converge the fastest?\n",
    "\n",
    "Not that your grade will not depend on how well you do, as long as you try at least 5 different values for alpha and plot them."
   ]
  },
  {
   "cell_type": "code",
   "execution_count": 20,
   "metadata": {},
   "outputs": [
    {
     "data": {
      "image/png": "[encoded data removed]",
      "text/plain": [
       "<Figure size 432x288 with 1 Axes>"
      ]
     },
     "metadata": {
      "needs_background": "light"
     },
     "output_type": "display_data"
    }
   ],
   "source": [
    "import autograd.numpy as np\n",
    "\n",
    "fig, ax = plt.subplots()\n",
    "\n",
    "def cost_function_12(w0, w1, w2):\n",
    "    return (2 * (w0**2)) + (w1**2) + (4 * (w2**2))\n",
    "\n",
    "w = np.array([5.0, 5.0, 5.0])\n",
    "plot_2(cost_function_12, 0.001, 20, w)\n",
    "plot_2(cost_function_12, 0.01, 20, w)\n",
    "plot_2(cost_function_12, 0.05, 20, w)\n",
    "plot_2(cost_function_12, 0.1, 20, w)\n",
    "plot_2(cost_function_12, 0.2, 20, w)\n",
    "plot_2(cost_function_12, 0.25, 10, w)\n",
    "\n",
    "ax.legend(loc='upper right')\n",
    "\n",
    "plt.show()"
   ]
  }
 ],
 "metadata": {
  "kernelspec": {
   "display_name": "Python 3 (ipykernel)",
   "language": "python",
   "name": "python3"
  },
  "language_info": {
   "codemirror_mode": {
    "name": "ipython",
    "version": 3
   },
   "file_extension": ".py",
   "mimetype": "text/x-python",
   "name": "python",
   "nbconvert_exporter": "python",
   "pygments_lexer": "ipython3",
   "version": "3.9.9"
  }
 },
 "nbformat": 4,
 "nbformat_minor": 2
}
