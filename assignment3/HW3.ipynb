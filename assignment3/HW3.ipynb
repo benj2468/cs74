{
 "cells": [
  {
   "cell_type": "markdown",
   "metadata": {},
   "source": [
    "Please run the cell below to import libraries needed for this HW. Please use the autograd numpy, otherwise you will have issues. Please remember to always use the np library for mathematical functions (e.g., np.log, np.exp, np.sum, etc)"
   ]
  },
  {
   "cell_type": "code",
   "execution_count": 2,
   "metadata": {},
   "outputs": [],
   "source": [
    "import autograd.numpy as np\n",
    "from autograd import grad \n",
    "import matplotlib.pyplot as plt"
   ]
  },
  {
   "cell_type": "markdown",
   "metadata": {},
   "source": [
    "Q1) [5 points] Implement the sigmod funcation discussed in class. The function takes a value, x, as input and returns the sigmoid function applied to the value."
   ]
  },
  {
   "cell_type": "code",
   "execution_count": 3,
   "metadata": {},
   "outputs": [],
   "source": [
    "def sigmoid(x) -> float:\n",
    "    return np.divide(1, 1 + (np.power(np.e, -x)))\n",
    "\n",
    "assert(sigmoid(0) == 0.5)\n"
   ]
  },
  {
   "cell_type": "markdown",
   "metadata": {},
   "source": [
    "Q2) [20 points] Implement the logistic regression model and the cross entropy cost discussed in class. Note that the logistic regression model relies on the sigmoid function (which you have implemented above) and the linear  model (which you have implemented in HW2). You can use the linear model from HW2 for this problem. Similar to the least-squares cost from HW2, the cross entropy cost takes in as input an array of weights, w, an array of x's and an array of ys and return a float indicating the total cost."
   ]
  },
  {
   "cell_type": "code",
   "execution_count": 4,
   "metadata": {},
   "outputs": [],
   "source": [
    "def linear_model(x,w):\n",
    "    \n",
    "    # Pad the array with a 1 for the bias term\n",
    "    a = np.pad(x, (1, 0), mode=\"constant\", constant_values=(1))\n",
    "\n",
    "    # Linear model is multiplying :) \n",
    "    return np.matmul(a, w)\n",
    "\n",
    "def logistic_reg(x,w) -> float:\n",
    "    return sigmoid(linear_model(x, w))\n",
    "\n",
    "#The logistic regression cross entropy cost\n",
    "def cross_entropy(x,y, *w) -> float:\n",
    "    cost = np.sum([np.add((np.multiply(y_p, np.log10(logistic_reg(x_p, w)))), (np.multiply((1-y_p),np.log10(1 - logistic_reg(x_p, w))))) for (x_p, y_p) in zip(x,y)])\n",
    "\n",
    "    return -cost / len(x)\n",
    "\n"
   ]
  },
  {
   "cell_type": "markdown",
   "metadata": {},
   "source": [
    "Q3) [2 points] Run the code below to read a data file. Plot a scatter plot of x vs y."
   ]
  },
  {
   "cell_type": "code",
   "execution_count": 5,
   "metadata": {},
   "outputs": [
    {
     "data": {
      "text/plain": [
       "[]"
      ]
     },
     "execution_count": 5,
     "metadata": {},
     "output_type": "execute_result"
    },
    {
     "data": {
      "image/png": "[encoded data removed]",
      "text/plain": [
       "<Figure size 432x288 with 1 Axes>"
      ]
     },
     "metadata": {
      "needs_background": "light"
     },
     "output_type": "display_data"
    }
   ],
   "source": [
    "csvname = '2d_classification_data_v1_entropy.csv'\n",
    "data = np.loadtxt(csvname,delimiter = ',')\n",
    "x = np.expand_dims(data[:-1,:][0], 1)\n",
    "y = data[-1:,:][0]\n",
    "\n",
    "fig, ax = plt.subplots()\n",
    "\n",
    "ax.scatter(x, y, label=csvname)\n",
    "ax.set_xlabel(\"feature 1\")\n",
    "ax.set_ylabel(\"label\")\n",
    "\n",
    "ax.set_title(\"Problem 4\")\n",
    "\n",
    "ax.plot()\n"
   ]
  },
  {
   "cell_type": "markdown",
   "metadata": {},
   "source": [
    "Q4) [10 points] Move the gradient descent function from HW2. Run the function using the cross_entropy cost and the x and y from above. The parameters should be set to: max_its=2000,w=[3.0,3.0 ], and alpha=1. Save the cost and weight history returned by the gradient descent function. Plot the cost history.\n"
   ]
  },
  {
   "cell_type": "code",
   "execution_count": 6,
   "metadata": {},
   "outputs": [],
   "source": [
    "def gradient_descent(g, alpha, max_its, w, x, y):\n",
    "    '''\n",
    "    The Gradient descent function w/ generic cost function: w^k = w^{k-1} - alpha * grad\n",
    "    \n",
    "    g: function(x, y) -> function(w) -> int - cost function\n",
    "    alpha: float - learning rate\n",
    "    max_its: int - maximum number of iterations\n",
    "    w - a vector that is the initialization for the weights\n",
    "    '''\n",
    "\n",
    "    gradient = []\n",
    "    for i in range(0, len(w)):\n",
    "        # initialize gradient functions for each dimension\n",
    "        gradient.append(grad(g, i + 2))\n",
    "\n",
    "    # Return arrays\n",
    "    cost_history = [g(x, y, *w)]\n",
    "    weight_history = [w]\n",
    "\n",
    "    i = 0\n",
    "    while i < max_its:\n",
    "\n",
    "        # This corresponds to alpha * gradient(w) term, but now we must calculate it for each parameter to the cost function, \n",
    "        # i.e. we must calculate the gradient in each direction.\n",
    "        sub = np.array([(alpha * gradient[j](x,y, *w)) for j in range(len(w))])\n",
    "        \n",
    "        # Perform gradient descent subtraction\n",
    "        w = np.subtract(w, sub)\n",
    "\n",
    "        # Add our data to our output arrays\n",
    "        cost_history.append(g(x, y, *w))\n",
    "        weight_history.append(w)\n",
    "\n",
    "        i += 1\n",
    "\n",
    "    return weight_history, cost_history"
   ]
  },
  {
   "cell_type": "code",
   "execution_count": 7,
   "metadata": {},
   "outputs": [
    {
     "data": {
      "text/plain": [
       "[]"
      ]
     },
     "execution_count": 7,
     "metadata": {},
     "output_type": "execute_result"
    },
    {
     "data": {
      "image/png": "[encoded data removed]",
      "text/plain": [
       "<Figure size 432x288 with 1 Axes>"
      ]
     },
     "metadata": {
      "needs_background": "light"
     },
     "output_type": "display_data"
    }
   ],
   "source": [
    "##Call the gradient_descent function here\n",
    "##Plot the cost history here\n",
    "\n",
    "p_4weights, p_4costs = gradient_descent(cross_entropy, 1, 2000, [3.0, 3.0], x, y)\n",
    "\n",
    "fig, ax = plt.subplots()\n",
    "\n",
    "ax.set_xlabel(\"Iteration\")\n",
    "ax.set_ylabel(\"Cost\")\n",
    "ax.set_title(\"Problem 4\")\n",
    "ax.plot(p_4costs, label=\"model = Cross Entropy\")\n",
    "\n",
    "ax.legend(loc=\"upper right\")\n",
    "\n",
    "\n",
    "ax.plot()"
   ]
  },
  {
   "cell_type": "markdown",
   "metadata": {},
   "source": [
    "Q5) [10 points] Implement a logistic regression classifier that takes in the learned weights and x as input and returns the probability of the positive class (note that this is just the output of the sigmoid applied to the linear combination of the x and w)"
   ]
  },
  {
   "cell_type": "code",
   "execution_count": 8,
   "metadata": {},
   "outputs": [],
   "source": [
    "def logistic_regression(learned_w,x) -> float:\n",
    "    return logistic_reg(x, learned_w)\n",
    "    "
   ]
  },
  {
   "cell_type": "markdown",
   "metadata": {},
   "source": [
    "Q6) [5 points] Use the learned weights from the last gradient descent run and the logistic regression function implemented above to plot the learned curve. You can use the linspace method (shown below) to generate a list of xs that you can use. You need to generate a y for each of the candidate xs using the logistic regression function and the learned weights. On the same figure, also plot the scatter plot from Q3. \n"
   ]
  },
  {
   "cell_type": "code",
   "execution_count": 9,
   "metadata": {},
   "outputs": [
    {
     "data": {
      "text/plain": [
       "[]"
      ]
     },
     "execution_count": 9,
     "metadata": {},
     "output_type": "execute_result"
    },
    {
     "data": {
      "image/png": "[encoded data removed]",
      "text/plain": [
       "<Figure size 432x288 with 1 Axes>"
      ]
     },
     "metadata": {
      "needs_background": "light"
     },
     "output_type": "display_data"
    }
   ],
   "source": [
    "s = np.linspace(np.min(x),np.max(x))\n",
    "\n",
    "learned_weights_from_4 = p_4weights[-1]\n",
    "\n",
    "ys = [logistic_regression(learned_weights_from_4, [x]) for x in s]\n",
    "\n",
    "fig, ax = plt.subplots()\n",
    "\n",
    "ax.plot(s, ys, label=\"Learned Curve\", color=\"green\")\n",
    "ax.scatter(x, y, label=csvname)\n",
    "\n",
    "ax.set_title(\"Problem 6\")\n",
    "\n",
    "ax.plot()"
   ]
  },
  {
   "cell_type": "markdown",
   "metadata": {},
   "source": [
    "Q7) [5 points] Slightly modify the logistic regression model above so that it returns a 1 or 0 based on the specified threshold."
   ]
  },
  {
   "cell_type": "code",
   "execution_count": 10,
   "metadata": {},
   "outputs": [],
   "source": [
    "def logistic_regression_modified(learned_w,x, threshold) -> int:\n",
    "    reg = logistic_regression(learned_w, x)\n",
    "    return int(reg >= threshold)"
   ]
  },
  {
   "cell_type": "markdown",
   "metadata": {},
   "source": [
    "Q8) [15 points] Write a function (called evaluate) that takes in actual and predicted ys (for a binary classification problem) and return a confusion matrix and the accuracy. Use the modified logistic regression model and the evaluate function below to report the confusion matrix and accuracy for the x and y used for our training at a threshold of 0.5.  "
   ]
  },
  {
   "cell_type": "code",
   "execution_count": 11,
   "metadata": {},
   "outputs": [
    {
     "name": "stdout",
     "output_type": "stream",
     "text": [
      "Evaluation (FP, FN, TP, TN): (0, 0, 6, 5, 1.0)\n"
     ]
    }
   ],
   "source": [
    "def evaluate(y_actual,y_pred):\n",
    "    ## Your code here\n",
    "    false_positive, false_negative, true_positive, true_negative = 0,0,0,0\n",
    "\n",
    "    for y_a, y_p in zip(y_actual, y_pred):\n",
    "        if y_a == y_p:\n",
    "            if y_a == 1:\n",
    "                true_positive+=1\n",
    "            else:\n",
    "                true_negative+=1\n",
    "        else:\n",
    "            if y_a == 1:\n",
    "                false_negative+=1\n",
    "            else:\n",
    "                false_positive+=1\n",
    "\n",
    "    accuracy = (true_positive + true_negative) / (true_negative + true_positive + false_negative + false_positive)\n",
    "\n",
    "    return false_positive, false_negative, true_positive, true_negative, accuracy\n",
    "\n",
    "y_pred = [logistic_regression_modified(learned_weights_from_4, x_p, 0.5) for x_p in x]\n",
    "\n",
    "print(f\"Evaluation (FP, FN, TP, TN): {evaluate(y, y_pred)}\")"
   ]
  },
  {
   "cell_type": "markdown",
   "metadata": {},
   "source": [
    "Q9) [20 points] Implement the perceptron cost function from the class (the softmax version). Note that the perceptron cost also uses the linear model (the model function from question 2)."
   ]
  },
  {
   "cell_type": "code",
   "execution_count": 12,
   "metadata": {},
   "outputs": [],
   "source": [
    "def perceptron_cost(x,y,*w):    \n",
    "   cost = np.sum([np.log10(1 + ((np.power(np.e, (-y_p * linear_model(x_p, w)))))) for (x_p, y_p) in zip(x,y)])\n",
    "\n",
    "   return cost / len(x)"
   ]
  },
  {
   "cell_type": "markdown",
   "metadata": {},
   "source": [
    "Q10) [10 points] Run gradient descent function using the perceptron cost and the x and y from above and the parameters set to: max_its=2000,w=[1.0,1.0], and alpha=1.0. Save the cost and weight history returned by the gradient descent function. Plot the cost history. Which cost seems to do better on this dataset? Why do think that is?\n"
   ]
  },
  {
   "cell_type": "code",
   "execution_count": 24,
   "metadata": {},
   "outputs": [
    {
     "data": {
      "text/plain": [
       "[]"
      ]
     },
     "execution_count": 24,
     "metadata": {},
     "output_type": "execute_result"
    },
    {
     "data": {
      "image/png": "[encoded data removed]",
      "text/plain": [
       "<Figure size 432x288 with 1 Axes>"
      ]
     },
     "metadata": {
      "needs_background": "light"
     },
     "output_type": "display_data"
    }
   ],
   "source": [
    "perc_y = [1 if _y else -1 for _y in y]\n",
    "p_10weights, p_10costs = gradient_descent(perceptron_cost, 1, 2000, [1.0, 1.0], x, perc_y)\n",
    "\n",
    "fig, ax = plt.subplots()\n",
    "\n",
    "ax.set_xlabel(\"Iteration\")\n",
    "ax.set_ylabel(\"Cost\")\n",
    "ax.set_title(\"Problem 10\")\n",
    "ax.plot(p_10costs, label=\"model = Perceptron\")\n",
    "\n",
    "ax.legend(loc=\"upper right\")\n",
    "\n",
    "\n",
    "ax.plot()\n"
   ]
  },
  {
   "cell_type": "code",
   "execution_count": 25,
   "metadata": {},
   "outputs": [
    {
     "name": "stdout",
     "output_type": "stream",
     "text": [
      "0.0004836086073347978\n",
      "0.04274114483396626\n"
     ]
    }
   ],
   "source": [
    "print(p_10costs[-1])\n",
    "print(p_4costs[-1])"
   ]
  },
  {
   "cell_type": "markdown",
   "metadata": {},
   "source": [
    "It appears that the logistic regression performs much better, with a much lower cost - but it is possible that they learned the exact same decision boundary, just the way cost is determined for perceptron is higher. This could be because of the proximity of the two points that both lie around x = 1 in the dataset, since these will both be VERY close to the perceptron decision boundary, resulting in a higher cost (due to the softmax)."
   ]
  },
  {
   "cell_type": "markdown",
   "metadata": {},
   "source": [
    "## The rest of these problems are for bonus points"
   ]
  },
  {
   "cell_type": "markdown",
   "metadata": {},
   "source": [
    "Q11) [2 points]  The file 'heart.csv' has 304 lines, each one corresponding to a data point. Each row (i.e., data point), has several columns. Read the data file. Note that the first line is the header describing each column."
   ]
  },
  {
   "cell_type": "code",
   "execution_count": 15,
   "metadata": {},
   "outputs": [],
   "source": [
    "# load in dataset\n",
    "import csv\n",
    "fname = \"heart.csv\"\n",
    "with open(fname) as f:\n",
    "    reader = csv.reader(f, delimiter=\",\")\n",
    "\n",
    "    data = []\n",
    "    for row in reader:\n",
    "        data.append(row)\n",
    "\n",
    "header = data[0]\n",
    "data = data[1:]"
   ]
  },
  {
   "cell_type": "markdown",
   "metadata": {},
   "source": [
    "Q12) [2 points] Use the data above to set y to be the \"target\" and X to be the remaining columns."
   ]
  },
  {
   "cell_type": "code",
   "execution_count": 16,
   "metadata": {},
   "outputs": [],
   "source": [
    "##Your code here\n",
    "y = [float(row[-1]) for row in data]\n",
    "X = [list(map(float, row[0:-1])) for row in data]"
   ]
  },
  {
   "cell_type": "markdown",
   "metadata": {},
   "source": [
    "Q13) [2 points] Run the code below to import the logistic regression and the train_test split functions from sklearn. Split your data into 80% train 20% test."
   ]
  },
  {
   "cell_type": "code",
   "execution_count": 17,
   "metadata": {},
   "outputs": [],
   "source": [
    "from sklearn.linear_model import LogisticRegression\n",
    "from sklearn.model_selection import train_test_split \n",
    "##Your code here\n",
    "\n",
    "X_train, X_test, y_train, y_test = train_test_split(X, y, test_size=0.2, train_size=0.8)"
   ]
  },
  {
   "cell_type": "markdown",
   "metadata": {},
   "source": [
    "Q14) [5 points] Use sklearn to fit a logistic regression model on your training set. Use all the default parameter. Do not evaluate at this point. (You can find out about sklearn logistic regression here: https://scikit-learn.org/stable/modules/generated/sklearn.linear_model.LogisticRegression.html)"
   ]
  },
  {
   "cell_type": "code",
   "execution_count": 18,
   "metadata": {},
   "outputs": [
    {
     "name": "stderr",
     "output_type": "stream",
     "text": [
      "/opt/homebrew/lib/python3.9/site-packages/sklearn/linear_model/_logistic.py:814: ConvergenceWarning: lbfgs failed to converge (status=1):\n",
      "STOP: TOTAL NO. of ITERATIONS REACHED LIMIT.\n",
      "\n",
      "Increase the number of iterations (max_iter) or scale the data as shown in:\n",
      "    https://scikit-learn.org/stable/modules/preprocessing.html\n",
      "Please also refer to the documentation for alternative solver options:\n",
      "    https://scikit-learn.org/stable/modules/linear_model.html#logistic-regression\n",
      "  n_iter_i = _check_optimize_result(\n"
     ]
    }
   ],
   "source": [
    "clf = LogisticRegression().fit(X_train, y_train)"
   ]
  },
  {
   "cell_type": "markdown",
   "metadata": {},
   "source": [
    "Q15) [5 points] Use the .predict_proba function of the logistic regression model that you have learned on your X_test. Note that the .predict_proba function returns an array of tuples where each element corresponds to the predicted probability for class 0 and 1 of the data point."
   ]
  },
  {
   "cell_type": "code",
   "execution_count": 19,
   "metadata": {},
   "outputs": [],
   "source": [
    "y_pred = clf.predict_proba(X_test)"
   ]
  },
  {
   "cell_type": "markdown",
   "metadata": {},
   "source": [
    "Q16) [2 points] Filter the predicted probabilties from the last question to an array containing only the probabilites for class 1. I.e., you should no longer have tuples."
   ]
  },
  {
   "cell_type": "code",
   "execution_count": 20,
   "metadata": {},
   "outputs": [],
   "source": [
    "class_1 = list(map(lambda x: x[1], y_pred))"
   ]
  },
  {
   "cell_type": "markdown",
   "metadata": {},
   "source": [
    "Q17) [8 points] Use the roc_curve function from sklearn (https://scikit-learn.org/stable/modules/generated/sklearn.metrics.roc_curve.html) to plot the ROC curve for your predictions using the predicted probabilities for class 1 and your y_test (use the default parameters). Also, print out the thresholds generated by the roc_curve function."
   ]
  },
  {
   "cell_type": "code",
   "execution_count": 21,
   "metadata": {},
   "outputs": [
    {
     "name": "stdout",
     "output_type": "stream",
     "text": [
      "[1.99015825 0.99015825 0.86056942 0.83959255 0.80783892 0.79343133\n",
      " 0.74882957 0.73770299 0.67741703 0.64524325 0.6324715  0.5889957\n",
      " 0.55097041 0.33661655 0.29477762 0.18452996 0.1612286  0.00816611]\n"
     ]
    },
    {
     "data": {
      "image/png": "[encoded data removed]",
      "text/plain": [
       "<Figure size 432x288 with 1 Axes>"
      ]
     },
     "metadata": {
      "needs_background": "light"
     },
     "output_type": "display_data"
    }
   ],
   "source": [
    "##Your code here\n",
    "from sklearn import metrics\n",
    "\n",
    "fpr, tpr, thresholds = metrics.roc_curve(y_test, class_1)\n",
    "\n",
    "##Call the gradient_descent function here\n",
    "##Plot the cost history here\n",
    "\n",
    "fig, ax = plt.subplots()\n",
    "\n",
    "ax.set_xlabel(\"FPR\")\n",
    "ax.set_ylabel(\"TPR\")\n",
    "ax.set_title(\"Problem 17\")\n",
    "ax.plot(fpr, tpr)\n",
    "\n",
    "\n",
    "ax.plot()\n",
    "\n",
    "print(thresholds)"
   ]
  },
  {
   "cell_type": "markdown",
   "metadata": {},
   "source": [
    "Q18) [2 points] Use the roc_auc_score function from sklearn (https://scikit-learn.org/stable/modules/generated/sklearn.metrics.roc_auc_score.html#sklearn.metrics.roc_auc_score) to report the AUC score using the exact same setup as the last question."
   ]
  },
  {
   "cell_type": "code",
   "execution_count": 22,
   "metadata": {},
   "outputs": [
    {
     "name": "stdout",
     "output_type": "stream",
     "text": [
      "AUC Score: 0.9372294372294372\n"
     ]
    }
   ],
   "source": [
    "print(f\"AUC Score: {metrics.roc_auc_score(y_test, class_1)}\")"
   ]
  }
 ],
 "metadata": {
  "kernelspec": {
   "display_name": "Python 3",
   "language": "python",
   "name": "python3"
  },
  "language_info": {
   "codemirror_mode": {
    "name": "ipython",
    "version": 3
   },
   "file_extension": ".py",
   "mimetype": "text/x-python",
   "name": "python",
   "nbconvert_exporter": "python",
   "pygments_lexer": "ipython3",
   "version": "3.9.9"
  }
 },
 "nbformat": 4,
 "nbformat_minor": 2
}
